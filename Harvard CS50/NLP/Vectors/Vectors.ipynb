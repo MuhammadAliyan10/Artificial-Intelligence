{
 "cells": [
  {
   "cell_type": "code",
   "execution_count": 31,
   "metadata": {},
   "outputs": [],
   "source": [
    "from scipy.spatial.distance import cosine\n",
    "import numpy as np"
   ]
  },
  {
   "cell_type": "code",
   "execution_count": 32,
   "metadata": {},
   "outputs": [],
   "source": [
    "with open(\"./Data/words.txt\") as f:\n",
    "    words = dict()\n",
    "    for line in f:\n",
    "        row = line.split()\n",
    "        word = row[0]\n",
    "        vector = np.array([float(x) for x in row[1:]])\n",
    "        words[word] = vector\n"
   ]
  },
  {
   "cell_type": "code",
   "execution_count": 33,
   "metadata": {},
   "outputs": [],
   "source": [
    "def distance(w1, w2):\n",
    "    return cosine(w1, w2)"
   ]
  },
  {
   "cell_type": "code",
   "execution_count": 34,
   "metadata": {},
   "outputs": [],
   "source": [
    "def closest_words(embedding):\n",
    "    distances = {\n",
    "        w: distance(embedding, words[w])\n",
    "        for w in words\n",
    "    }\n",
    "    return sorted(distances, key=lambda w: distances[w])[:10]\n"
   ]
  },
  {
   "cell_type": "code",
   "execution_count": 35,
   "metadata": {},
   "outputs": [],
   "source": [
    "def closest_word(embedding):\n",
    "    return closest_words(embedding)[0]"
   ]
  },
  {
   "cell_type": "code",
   "execution_count": 36,
   "metadata": {},
   "outputs": [
    {
     "data": {
      "text/plain": [
       "array([-2.26776e-01, -1.55999e-01, -4.89950e-02, -5.69774e-01,\n",
       "        5.32200e-02,  1.24401e-01, -9.11080e-02, -6.06255e-01,\n",
       "       -1.14630e-01,  4.73384e-01,  6.10610e-02,  5.51323e-01,\n",
       "       -2.45151e-01, -1.42480e-02, -2.10003e-01,  3.16162e-01,\n",
       "        3.40426e-01,  2.32053e-01,  3.86477e-01, -2.51040e-02,\n",
       "       -2.44920e-02,  3.42590e-01,  2.05586e-01, -5.54390e-01,\n",
       "       -3.78320e-02, -2.12766e-01, -4.87810e-02, -8.86520e-02,\n",
       "        4.27220e-02,  2.70000e-04,  3.56324e-01,  2.12374e-01,\n",
       "       -1.88433e-01,  1.96112e-01, -2.23294e-01, -1.45910e-02,\n",
       "        6.78740e-02, -4.48922e-01, -2.90960e-01, -3.64740e-02,\n",
       "       -1.48416e-01,  4.48422e-01,  1.64540e-02,  7.16130e-02,\n",
       "       -7.83060e-02,  3.54000e-02,  3.30418e-01,  2.93890e-01,\n",
       "        2.02701e-01,  5.55509e-01,  4.47660e-01, -3.61554e-01,\n",
       "       -2.66283e-01, -1.34947e-01,  1.05315e-01,  1.31263e-01,\n",
       "        5.48085e-01, -1.95238e-01,  6.29580e-02, -1.11170e-02,\n",
       "       -2.26676e-01,  5.03360e-02, -2.95650e-01, -2.01271e-01,\n",
       "        1.44500e-02,  2.68450e-02,  4.03077e-01, -2.21277e-01,\n",
       "       -2.36224e-01,  2.13415e-01, -1.63396e-01, -2.18948e-01,\n",
       "       -2.42459e-01, -3.46984e-01,  2.82615e-01,  1.41650e-02,\n",
       "       -3.42011e-01,  3.70489e-01, -3.72362e-01,  1.02479e-01,\n",
       "        5.47047e-01,  2.08310e-02, -2.02521e-01, -1.80814e-01,\n",
       "        3.59230e-02, -2.96322e-01, -6.26030e-02,  2.32734e-01,\n",
       "        1.91323e-01,  2.51916e-01,  1.50993e-01, -2.40090e-02,\n",
       "        1.29037e-01, -3.30970e-02,  2.97130e-02,  1.25488e-01,\n",
       "       -1.83560e-02, -2.26277e-01,  4.37586e-01,  4.91300e-03])"
      ]
     },
     "execution_count": 36,
     "metadata": {},
     "output_type": "execute_result"
    }
   ],
   "source": [
    "words[\"book\"]"
   ]
  },
  {
   "cell_type": "code",
   "execution_count": 37,
   "metadata": {},
   "outputs": [
    {
     "data": {
      "text/plain": [
       "0.3436623421719046"
      ]
     },
     "execution_count": 37,
     "metadata": {},
     "output_type": "execute_result"
    }
   ],
   "source": [
    "distance(words[\"book\"], words[\"novel\"])"
   ]
  },
  {
   "cell_type": "code",
   "execution_count": 38,
   "metadata": {},
   "outputs": [
    {
     "data": {
      "text/plain": [
       "'book'"
      ]
     },
     "execution_count": 38,
     "metadata": {},
     "output_type": "execute_result"
    }
   ],
   "source": [
    "closest_word(words[\"book\"])"
   ]
  },
  {
   "cell_type": "code",
   "execution_count": 40,
   "metadata": {},
   "outputs": [
    {
     "data": {
      "text/plain": [
       "'queen'"
      ]
     },
     "execution_count": 40,
     "metadata": {},
     "output_type": "execute_result"
    }
   ],
   "source": [
    "closest_word(words[\"king\"] - words[\"man\"] + words[\"woman\"])"
   ]
  },
  {
   "cell_type": "code",
   "execution_count": null,
   "metadata": {},
   "outputs": [],
   "source": []
  }
 ],
 "metadata": {
  "kernelspec": {
   "display_name": "Python 3",
   "language": "python",
   "name": "python3"
  },
  "language_info": {
   "codemirror_mode": {
    "name": "ipython",
    "version": 3
   },
   "file_extension": ".py",
   "mimetype": "text/x-python",
   "name": "python",
   "nbconvert_exporter": "python",
   "pygments_lexer": "ipython3",
   "version": "3.12.2"
  }
 },
 "nbformat": 4,
 "nbformat_minor": 2
}
