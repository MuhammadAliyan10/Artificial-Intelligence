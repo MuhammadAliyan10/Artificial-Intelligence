{
 "cells": [
  {
   "cell_type": "code",
   "execution_count": 6,
   "metadata": {},
   "outputs": [],
   "source": [
    "import nltk\n",
    "import os"
   ]
  },
  {
   "cell_type": "code",
   "execution_count": 7,
   "metadata": {},
   "outputs": [],
   "source": [
    "def extract_words(document):\n",
    "    return set(\n",
    "        word.lower() for word in nltk.word_tokenize(document)\n",
    "        if any(c.isalpha() for c in word)\n",
    "    )"
   ]
  },
  {
   "cell_type": "code",
   "execution_count": 8,
   "metadata": {},
   "outputs": [],
   "source": [
    "def load_data(directory):\n",
    "    result = []\n",
    "    for filename in [\"Positives.txt\", \"Negatives.txt\"]:\n",
    "        with open(os.path.join(directory, filename)) as f:\n",
    "            result.append([\n",
    "                extract_words(line)\n",
    "                for line in f.read().splitlines()\n",
    "            ])\n",
    "    return result"
   ]
  },
  {
   "cell_type": "code",
   "execution_count": 9,
   "metadata": {},
   "outputs": [],
   "source": [
    "def generate_features(documents, words, label):\n",
    "    features = []\n",
    "    for document in documents:\n",
    "        features.append(({\n",
    "            word: (word in document)\n",
    "            for word in words\n",
    "        }, label))\n",
    "    return features"
   ]
  },
  {
   "cell_type": "code",
   "execution_count": 10,
   "metadata": {},
   "outputs": [],
   "source": [
    "\n",
    "def classify(classifier, document, words):\n",
    "    document_words = extract_words(document)\n",
    "    features = {\n",
    "        word: (word in document_words)\n",
    "        for word in words\n",
    "    }\n",
    "    return classifier.prob_classify(features)"
   ]
  },
  {
   "cell_type": "code",
   "execution_count": 13,
   "metadata": {},
   "outputs": [
    {
     "name": "stdout",
     "output_type": "stream",
     "text": [
      "Positive: 0.4980\n",
      "Negative: 0.5020\n"
     ]
    }
   ],
   "source": [
    "\n",
    "positives, negatives = load_data(\"./Data\")\n",
    "\n",
    "words = set()\n",
    "for document in positives:\n",
    "    words.update(document)\n",
    "for document in negatives:\n",
    "    words.update(document)\n",
    "\n",
    "training = []\n",
    "training.extend(generate_features(positives, words, \"Positive\"))\n",
    "training.extend(generate_features(negatives, words, \"Negative\"))\n",
    "\n",
    "classifier = nltk.NaiveBayesClassifier.train(training)\n",
    "s = input(\"s: \")\n",
    "result = (classify(classifier, s, words))\n",
    "for key in result.samples():\n",
    "    print(f\"{key}: {result.prob(key):.4f}\")"
   ]
  },
  {
   "cell_type": "code",
   "execution_count": null,
   "metadata": {},
   "outputs": [],
   "source": []
  }
 ],
 "metadata": {
  "kernelspec": {
   "display_name": "Python 3",
   "language": "python",
   "name": "python3"
  },
  "language_info": {
   "codemirror_mode": {
    "name": "ipython",
    "version": 3
   },
   "file_extension": ".py",
   "mimetype": "text/x-python",
   "name": "python",
   "nbconvert_exporter": "python",
   "pygments_lexer": "ipython3",
   "version": "3.12.2"
  }
 },
 "nbformat": 4,
 "nbformat_minor": 2
}
