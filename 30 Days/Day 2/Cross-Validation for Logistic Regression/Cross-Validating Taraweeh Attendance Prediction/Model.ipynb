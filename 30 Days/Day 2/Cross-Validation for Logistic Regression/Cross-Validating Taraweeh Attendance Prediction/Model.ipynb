{
 "cells": [
  {
   "cell_type": "code",
   "execution_count": 38,
   "metadata": {},
   "outputs": [],
   "source": [
    "import pandas as pd\n",
    "from sklearn.linear_model import LogisticRegression\n",
    "from sklearn.model_selection import StratifiedKFold\n",
    "from sklearn.metrics import accuracy_score, precision_score, recall_score, f1_score\n",
    "import matplotlib.pyplot as plt\n",
    "import numpy as np"
   ]
  },
  {
   "cell_type": "code",
   "execution_count": 39,
   "metadata": {},
   "outputs": [
    {
     "data": {
      "text/html": [
       "<div>\n",
       "<style scoped>\n",
       "    .dataframe tbody tr th:only-of-type {\n",
       "        vertical-align: middle;\n",
       "    }\n",
       "\n",
       "    .dataframe tbody tr th {\n",
       "        vertical-align: top;\n",
       "    }\n",
       "\n",
       "    .dataframe thead th {\n",
       "        text-align: right;\n",
       "    }\n",
       "</style>\n",
       "<table border=\"1\" class=\"dataframe\">\n",
       "  <thead>\n",
       "    <tr style=\"text-align: right;\">\n",
       "      <th></th>\n",
       "      <th>days</th>\n",
       "      <th>tiredness</th>\n",
       "      <th>temperature</th>\n",
       "      <th>attend</th>\n",
       "    </tr>\n",
       "  </thead>\n",
       "  <tbody>\n",
       "    <tr>\n",
       "      <th>0</th>\n",
       "      <td>1</td>\n",
       "      <td>7.641566</td>\n",
       "      <td>37.412506</td>\n",
       "      <td>0</td>\n",
       "    </tr>\n",
       "    <tr>\n",
       "      <th>1</th>\n",
       "      <td>2</td>\n",
       "      <td>6.880101</td>\n",
       "      <td>33.454553</td>\n",
       "      <td>0</td>\n",
       "    </tr>\n",
       "    <tr>\n",
       "      <th>2</th>\n",
       "      <td>3</td>\n",
       "      <td>1.863352</td>\n",
       "      <td>34.249389</td>\n",
       "      <td>1</td>\n",
       "    </tr>\n",
       "    <tr>\n",
       "      <th>3</th>\n",
       "      <td>4</td>\n",
       "      <td>2.837589</td>\n",
       "      <td>33.961324</td>\n",
       "      <td>1</td>\n",
       "    </tr>\n",
       "    <tr>\n",
       "      <th>4</th>\n",
       "      <td>5</td>\n",
       "      <td>0.384643</td>\n",
       "      <td>20.587696</td>\n",
       "      <td>1</td>\n",
       "    </tr>\n",
       "  </tbody>\n",
       "</table>\n",
       "</div>"
      ],
      "text/plain": [
       "   days  tiredness  temperature  attend\n",
       "0     1   7.641566    37.412506       0\n",
       "1     2   6.880101    33.454553       0\n",
       "2     3   1.863352    34.249389       1\n",
       "3     4   2.837589    33.961324       1\n",
       "4     5   0.384643    20.587696       1"
      ]
     },
     "execution_count": 39,
     "metadata": {},
     "output_type": "execute_result"
    }
   ],
   "source": [
    "df = pd.read_csv('./Data/taraweeh.csv')\n",
    "df.head()"
   ]
  },
  {
   "cell_type": "code",
   "execution_count": 40,
   "metadata": {},
   "outputs": [],
   "source": [
    "X = df[['tiredness','temperature']]\n",
    "y = df['attend']"
   ]
  },
  {
   "cell_type": "code",
   "execution_count": 41,
   "metadata": {},
   "outputs": [],
   "source": [
    "k_fold = StratifiedKFold(n_splits=4, shuffle=True, random_state=8)"
   ]
  },
  {
   "cell_type": "code",
   "execution_count": 42,
   "metadata": {},
   "outputs": [],
   "source": [
    "model = LogisticRegression()"
   ]
  },
  {
   "cell_type": "code",
   "execution_count": 43,
   "metadata": {},
   "outputs": [],
   "source": [
    "accuracies, precisions, recalls, f1_scores = [], [], [], []"
   ]
  },
  {
   "cell_type": "code",
   "execution_count": 44,
   "metadata": {},
   "outputs": [],
   "source": [
    "for train_idx, test_idx in k_fold.split(X, y):\n",
    "  X_train, X_test = X.iloc[train_idx], X.iloc[test_idx]\n",
    "  y_train, y_test = y.iloc[train_idx], y.iloc[test_idx]\n",
    "  model.fit(X_train, y_train)\n",
    "  y_pred = model.predict(X_test)\n",
    "  accuracies.append(accuracy_score(y_test, y_pred))\n",
    "  precisions.append(precision_score(y_test, y_pred))\n",
    "  recalls.append(recall_score(y_test, y_pred))\n",
    "  f1_scores.append(f1_score(y_test, y_pred))"
   ]
  },
  {
   "cell_type": "code",
   "execution_count": 45,
   "metadata": {},
   "outputs": [
    {
     "name": "stdout",
     "output_type": "stream",
     "text": [
      "Average Accuracy: 0.75 ± 0.09\n",
      "Average Precision: 0.62 ± 0.41\n",
      "Average Recall: 0.50 ± 0.35\n",
      "Average F1 Score: 0.50 ± 0.29\n"
     ]
    }
   ],
   "source": [
    "print(f\"Average Accuracy: {np.mean(accuracies):.2f} ± {np.std(accuracies):.2f}\")\n",
    "print(f\"Average Precision: {np.mean(precisions):.2f} ± {np.std(precisions):.2f}\")\n",
    "print(f\"Average Recall: {np.mean(recalls):.2f} ± {np.std(recalls):.2f}\")\n",
    "print(f\"Average F1 Score: {np.mean(f1_scores):.2f} ± {np.std(f1_scores):.2f}\")"
   ]
  },
  {
   "cell_type": "code",
   "execution_count": 46,
   "metadata": {},
   "outputs": [
    {
     "data": {
      "image/png": "[encoded data removed]",
      "text/plain": [
       "<Figure size 640x480 with 1 Axes>"
      ]
     },
     "metadata": {},
     "output_type": "display_data"
    }
   ],
   "source": [
    "plt.boxplot([accuracies, precisions, recalls, f1_scores], labels=[\"Accuracy\", \"Precision\", \"Recall\", \"F1\"])\n",
    "plt.title(\"Cross-Validation Metrics for Fasting Failures\")\n",
    "plt.ylabel(\"Score\")\n",
    "plt.show()"
   ]
  },
  {
   "cell_type": "code",
   "execution_count": null,
   "metadata": {},
   "outputs": [],
   "source": []
  }
 ],
 "metadata": {
  "kernelspec": {
   "display_name": "Python 3",
   "language": "python",
   "name": "python3"
  },
  "language_info": {
   "codemirror_mode": {
    "name": "ipython",
    "version": 3
   },
   "file_extension": ".py",
   "mimetype": "text/x-python",
   "name": "python",
   "nbconvert_exporter": "python",
   "pygments_lexer": "ipython3",
   "version": "3.12.2"
  }
 },
 "nbformat": 4,
 "nbformat_minor": 2
}
