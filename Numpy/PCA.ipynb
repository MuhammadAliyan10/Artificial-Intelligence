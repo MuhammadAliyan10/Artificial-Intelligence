{
 "cells": [
  {
   "cell_type": "code",
   "execution_count": 1,
   "metadata": {},
   "outputs": [],
   "source": [
    "import numpy as np"
   ]
  },
  {
   "cell_type": "code",
   "execution_count": 3,
   "metadata": {},
   "outputs": [
    {
     "name": "stdout",
     "output_type": "stream",
     "text": [
      "Original data [[0.37454012 0.95071431 0.73199394]\n",
      " [0.59865848 0.15601864 0.15599452]\n",
      " [0.05808361 0.86617615 0.60111501]\n",
      " [0.70807258 0.02058449 0.96990985]\n",
      " [0.83244264 0.21233911 0.18182497]\n",
      " [0.18340451 0.30424224 0.52475643]]\n"
     ]
    }
   ],
   "source": [
    "np.random.seed(42)\n",
    "data = np.random.rand(6,3)\n",
    "print(\"Original data\" , data)"
   ]
  },
  {
   "cell_type": "code",
   "execution_count": 9,
   "metadata": {},
   "outputs": [
    {
     "name": "stdout",
     "output_type": "stream",
     "text": [
      "Standardized data [[-0.30416695  1.48951296  0.70770592]\n",
      " [ 0.50104489 -0.73396482 -1.28666066]\n",
      " [-1.44113101  1.25298377  0.25454476]\n",
      " [ 0.89414754 -1.11289581  1.53147678]\n",
      " [ 1.34098396 -0.57638586 -1.19722414]\n",
      " [-0.99087844 -0.31925023 -0.00984266]]\n"
     ]
    }
   ],
   "source": [
    "mean = np.mean(data, axis=0)\n",
    "std_dev = np.std(data, axis=0)\n",
    "standardized_data = (data - mean) / std_dev\n",
    "print(\"Standardized data\" , standardized_data)"
   ]
  },
  {
   "cell_type": "code",
   "execution_count": 5,
   "metadata": {},
   "outputs": [
    {
     "name": "stdout",
     "output_type": "stream",
     "text": [
      "Covariance matrix [[ 1.2        -0.81564056 -0.29062143]\n",
      " [-0.81564056  1.2         0.2612545 ]\n",
      " [-0.29062143  0.2612545   1.2       ]]\n"
     ]
    }
   ],
   "source": [
    "cov_matrix = np.cov(standardize_data, rowvar=False)\n",
    "print(\"Covariance matrix\" , cov_matrix)"
   ]
  },
  {
   "cell_type": "code",
   "execution_count": 6,
   "metadata": {},
   "outputs": [
    {
     "name": "stdout",
     "output_type": "stream",
     "text": [
      "\n",
      "Eigenvalues:\n",
      " [2.17230118 0.38376296 1.04393586]\n",
      "\n",
      "Eigenvectors:\n",
      " [[-0.65925656  0.71165357  0.24275499]\n",
      " [ 0.65313745  0.70194359 -0.28405397]\n",
      " [ 0.37254833  0.02871207  0.92756852]]\n"
     ]
    }
   ],
   "source": [
    "eigenvalues, eigenvectors = np.linalg.eig(cov_matrix)\n",
    "print(\"\\nEigenvalues:\\n\", eigenvalues)\n",
    "print(\"\\nEigenvectors:\\n\", eigenvectors)"
   ]
  },
  {
   "cell_type": "code",
   "execution_count": 7,
   "metadata": {},
   "outputs": [
    {
     "name": "stdout",
     "output_type": "stream",
     "text": [
      "\n",
      "Top Eigenvectors:\n",
      " [[-0.65925656  0.71165357]\n",
      " [ 0.65313745  0.70194359]\n",
      " [ 0.37254833  0.02871207]]\n"
     ]
    }
   ],
   "source": [
    "k = 2  # Reduce to 2 dimensions\n",
    "top_eigenvectors = eigenvectors[:, :k]\n",
    "print(\"\\nTop Eigenvectors:\\n\", top_eigenvectors)"
   ]
  },
  {
   "cell_type": "code",
   "execution_count": 10,
   "metadata": {},
   "outputs": [
    {
     "name": "stdout",
     "output_type": "stream",
     "text": [
      "\n",
      "Reduced Data:\n",
      " [[ 1.43703542  0.84941228]\n",
      " [-1.28904033 -0.19557421]\n",
      " [ 1.86327592 -0.1387536 ]\n",
      " [-0.74579745 -0.10089492]\n",
      " [-1.70653552  0.51535088]\n",
      " [ 0.44106196 -0.92954044]]\n"
     ]
    }
   ],
   "source": [
    "reduced_data = np.dot(standardized_data, top_eigenvectors)\n",
    "print(\"\\nReduced Data:\\n\", reduced_data)"
   ]
  },
  {
   "cell_type": "code",
   "execution_count": null,
   "metadata": {},
   "outputs": [],
   "source": []
  }
 ],
 "metadata": {
  "kernelspec": {
   "display_name": "Python 3",
   "language": "python",
   "name": "python3"
  },
  "language_info": {
   "codemirror_mode": {
    "name": "ipython",
    "version": 3
   },
   "file_extension": ".py",
   "mimetype": "text/x-python",
   "name": "python",
   "nbconvert_exporter": "python",
   "pygments_lexer": "ipython3",
   "version": "3.12.2"
  }
 },
 "nbformat": 4,
 "nbformat_minor": 2
}
