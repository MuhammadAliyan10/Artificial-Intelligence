{
 "cells": [
  {
   "cell_type": "code",
   "execution_count": 2,
   "metadata": {},
   "outputs": [],
   "source": [
    "import numpy as np"
   ]
  },
  {
   "cell_type": "code",
   "execution_count": 3,
   "metadata": {},
   "outputs": [],
   "source": [
    "np.random.seed(42)"
   ]
  },
  {
   "cell_type": "code",
   "execution_count": 4,
   "metadata": {},
   "outputs": [],
   "source": [
    "nStocks = 5\n",
    "nDays = 252\n",
    "returns = np.random.normal(loc=0.001, scale=0.02, size=(nDays,nStocks))"
   ]
  },
  {
   "cell_type": "code",
   "execution_count": 8,
   "metadata": {},
   "outputs": [
    {
     "data": {
      "text/plain": [
       "1260"
      ]
     },
     "execution_count": 8,
     "metadata": {},
     "output_type": "execute_result"
    }
   ],
   "source": [
    "returns.size"
   ]
  },
  {
   "cell_type": "code",
   "execution_count": 7,
   "metadata": {},
   "outputs": [
    {
     "name": "stdout",
     "output_type": "stream",
     "text": [
      "Expected Returns per Stock: [0.00128986 0.00037904 0.00099573 0.00268777 0.00345948]\n"
     ]
    }
   ],
   "source": [
    "expectedReturn = np.mean(returns, axis=0)\n",
    "print(\"Expected Returns per Stock:\", expectedReturn)"
   ]
  },
  {
   "cell_type": "code",
   "execution_count": 9,
   "metadata": {},
   "outputs": [
    {
     "name": "stdout",
     "output_type": "stream",
     "text": [
      "\n",
      "Covariance Matrix:\n",
      " [[ 3.50768802e-04 -2.24286350e-05  3.26431802e-05  4.30511200e-07\n",
      "   9.49326247e-06]\n",
      " [-2.24286350e-05  4.31211746e-04  2.85773813e-06 -1.08078997e-05\n",
      "   3.02963614e-05]\n",
      " [ 3.26431802e-05  2.85773813e-06  3.74957883e-04 -3.78408451e-06\n",
      "   3.34781970e-05]\n",
      " [ 4.30511200e-07 -1.08078997e-05 -3.78408451e-06  3.77260407e-04\n",
      "  -2.19327390e-05]\n",
      " [ 9.49326247e-06  3.02963614e-05  3.34781970e-05 -2.19327390e-05\n",
      "   4.23805072e-04]]\n"
     ]
    }
   ],
   "source": [
    "covMatrix = np.cov(returns,rowvar=False)\n",
    "print(\"\\nCovariance Matrix:\\n\", covMatrix)"
   ]
  },
  {
   "cell_type": "code",
   "execution_count": 10,
   "metadata": {},
   "outputs": [
    {
     "data": {
      "text/plain": [
       "array([0.2, 0.2, 0.2, 0.2, 0.2])"
      ]
     },
     "execution_count": 10,
     "metadata": {},
     "output_type": "execute_result"
    }
   ],
   "source": [
    "weight = np.array([0.2] * nStocks)\n",
    "weight"
   ]
  },
  {
   "cell_type": "code",
   "execution_count": 11,
   "metadata": {},
   "outputs": [
    {
     "name": "stdout",
     "output_type": "stream",
     "text": [
      "\n",
      "Portfolio Expected Return: 0.0017623749978889296\n"
     ]
    }
   ],
   "source": [
    "portfolioReturn = np.dot(weight, expectedReturn)\n",
    "print(\"\\nPortfolio Expected Return:\", portfolioReturn)"
   ]
  },
  {
   "cell_type": "code",
   "execution_count": 12,
   "metadata": {},
   "outputs": [],
   "source": [
    "portfolioVariance = np.dot(weight.T, np.dot(covMatrix, weight))"
   ]
  },
  {
   "cell_type": "code",
   "execution_count": 13,
   "metadata": {},
   "outputs": [],
   "source": [
    "portfolioStd = np.sqrt(portfolioVariance)"
   ]
  },
  {
   "cell_type": "code",
   "execution_count": 14,
   "metadata": {},
   "outputs": [
    {
     "name": "stdout",
     "output_type": "stream",
     "text": [
      "Portfolio Risk (Std Dev): 0.009074129587917916\n"
     ]
    }
   ],
   "source": [
    "print(\"Portfolio Risk (Std Dev):\", portfolioStd)"
   ]
  },
  {
   "cell_type": "code",
   "execution_count": 15,
   "metadata": {},
   "outputs": [],
   "source": [
    "n = 10000\n",
    "results = np.zeros((n,3))"
   ]
  },
  {
   "cell_type": "code",
   "execution_count": 16,
   "metadata": {},
   "outputs": [],
   "source": [
    "for i in range(n):\n",
    "    w = np.random.random(nStocks)\n",
    "    w /= np.sum(w)\n",
    "\n",
    "    pReturn = np.dot(w, expectedReturn)\n",
    "    pVariance = np.dot(w.T, np.dot(covMatrix, w))\n",
    "    pStd = np.sqrt(pVariance)\n",
    "\n",
    "    sharpe = pReturn / pStd\n",
    "    results[i] = [pReturn, pStd, sharpe]"
   ]
  },
  {
   "cell_type": "code",
   "execution_count": 17,
   "metadata": {},
   "outputs": [
    {
     "name": "stdout",
     "output_type": "stream",
     "text": [
      "\n",
      "Optimal Weights: [0.28862456 0.07895622 0.15432736 0.16499283 0.31309903]\n",
      "Optimal Return: 0.0012098452494801002\n",
      "Optimal Risk: 0.010484457516218565\n",
      "Max Sharpe Ratio: 0.11539416775818609\n"
     ]
    }
   ],
   "source": [
    "optimalIdx = np.argmax(results[:2])\n",
    "optimalWeight = np.random.random(nStocks)\n",
    "optimalWeight /= np.sum(optimalWeight)\n",
    "print(\"\\nOptimal Weights:\", optimalWeight)\n",
    "print(\"Optimal Return:\", results[optimalIdx, 0])\n",
    "print(\"Optimal Risk:\", results[optimalIdx, 1])\n",
    "print(\"Max Sharpe Ratio:\", results[optimalIdx, 2])"
   ]
  },
  {
   "cell_type": "code",
   "execution_count": null,
   "metadata": {},
   "outputs": [],
   "source": []
  }
 ],
 "metadata": {
  "kernelspec": {
   "display_name": "Python 3",
   "language": "python",
   "name": "python3"
  },
  "language_info": {
   "codemirror_mode": {
    "name": "ipython",
    "version": 3
   },
   "file_extension": ".py",
   "mimetype": "text/x-python",
   "name": "python",
   "nbconvert_exporter": "python",
   "pygments_lexer": "ipython3",
   "version": "3.12.2"
  }
 },
 "nbformat": 4,
 "nbformat_minor": 2
}
