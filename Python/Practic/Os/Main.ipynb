{
 "cells": [
  {
   "cell_type": "code",
   "execution_count": 30,
   "metadata": {},
   "outputs": [],
   "source": [
    "import os"
   ]
  },
  {
   "cell_type": "markdown",
   "metadata": {},
   "source": [
    "##### *Create a folder*"
   ]
  },
  {
   "cell_type": "code",
   "execution_count": 31,
   "metadata": {},
   "outputs": [],
   "source": [
    "def create_folder(name):\n",
    "    if not os.path.exists(name):\n",
    "        os.makedirs(name)\n",
    "        print(f\"The folder is created successfully on the name {name}\")\n",
    "    else:\n",
    "        print(\"Folder aready exist.\")"
   ]
  },
  {
   "cell_type": "markdown",
   "metadata": {},
   "source": [
    "#### *Make an empty file*"
   ]
  },
  {
   "cell_type": "code",
   "execution_count": 32,
   "metadata": {},
   "outputs": [],
   "source": [
    "def create_empty_file(name):\n",
    "    if not os.path.exists(name):\n",
    "        with open(name, \"w\") as f:\n",
    "            pass\n",
    "        print(f\"The file is created successfully on the name {name}\")\n",
    "    else:\n",
    "        print(\"The file is already exists.\")"
   ]
  },
  {
   "cell_type": "markdown",
   "metadata": {},
   "source": [
    "#### *Make a file with content*"
   ]
  },
  {
   "cell_type": "code",
   "execution_count": 33,
   "metadata": {},
   "outputs": [],
   "source": [
    "def create_file_with_content(name,content):\n",
    "    if not os.path.exists(name):\n",
    "        with open(name, \"w\") as f:\n",
    "            f.write(content)\n",
    "        print(\"Data added successfully.\")\n",
    "    else:\n",
    "        with open(name, \"a\") as f:\n",
    "            f.write(content)\n",
    "        print(\"Data append successfully.\")\n",
    "        "
   ]
  },
  {
   "cell_type": "markdown",
   "metadata": {},
   "source": [
    "#### *Delete a file or folder*"
   ]
  },
  {
   "cell_type": "code",
   "execution_count": 34,
   "metadata": {},
   "outputs": [],
   "source": [
    "def delete_f(name):\n",
    "    if os.path.exists(name):\n",
    "        os.remove(name)\n",
    "        print(f\"{name} deleted successfully.\")\n",
    "    else:\n",
    "        print(\"No file/folder found.\")"
   ]
  },
  {
   "cell_type": "code",
   "execution_count": 35,
   "metadata": {},
   "outputs": [],
   "source": [
    "name = \"M:\\Artificial-Intelligence\\Python\\Practic\\Os\"\n",
    "file_name =\"M:\\Artificial-Intelligence\\Python\\Practic\\Os\\Text Files\\Main.txt\""
   ]
  },
  {
   "cell_type": "code",
   "execution_count": 36,
   "metadata": {},
   "outputs": [
    {
     "name": "stdout",
     "output_type": "stream",
     "text": [
      "The file is already exists.\n"
     ]
    }
   ],
   "source": [
    "create_empty_file(file_name)"
   ]
  },
  {
   "cell_type": "code",
   "execution_count": 37,
   "metadata": {},
   "outputs": [
    {
     "name": "stdout",
     "output_type": "stream",
     "text": [
      "Data append successfully.\n"
     ]
    }
   ],
   "source": [
    "create_file_with_content(file_name,\"My name is Aliyan\")"
   ]
  },
  {
   "cell_type": "code",
   "execution_count": 39,
   "metadata": {},
   "outputs": [
    {
     "name": "stdout",
     "output_type": "stream",
     "text": [
      "M:\\Artificial-Intelligence\\Python\\Practic\\Os\\Text Files\\Main.txt deleted successfully.\n"
     ]
    }
   ],
   "source": [
    "delete_f(file_name)"
   ]
  },
  {
   "cell_type": "code",
   "execution_count": null,
   "metadata": {},
   "outputs": [],
   "source": []
  }
 ],
 "metadata": {
  "kernelspec": {
   "display_name": "Python 3",
   "language": "python",
   "name": "python3"
  },
  "language_info": {
   "codemirror_mode": {
    "name": "ipython",
    "version": 3
   },
   "file_extension": ".py",
   "mimetype": "text/x-python",
   "name": "python",
   "nbconvert_exporter": "python",
   "pygments_lexer": "ipython3",
   "version": "3.11.2"
  }
 },
 "nbformat": 4,
 "nbformat_minor": 2
}
