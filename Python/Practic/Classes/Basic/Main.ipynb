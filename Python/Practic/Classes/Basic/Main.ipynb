{
 "cells": [
  {
   "cell_type": "code",
   "execution_count": 5,
   "metadata": {},
   "outputs": [],
   "source": [
    "class Animal:\n",
    "    def dog():\n",
    "        print(\"Bho-Bho\")\n",
    "    def cat():\n",
    "        print(\"Meo\")"
   ]
  },
  {
   "cell_type": "code",
   "execution_count": 7,
   "metadata": {},
   "outputs": [
    {
     "name": "stdout",
     "output_type": "stream",
     "text": [
      "Bho-Bho\n"
     ]
    }
   ],
   "source": [
    "Animal.dog()"
   ]
  },
  {
   "cell_type": "code",
   "execution_count": 8,
   "metadata": {},
   "outputs": [],
   "source": [
    "class Students:\n",
    "    def __init__(self,name,section, age):\n",
    "        self.name= name\n",
    "        self.section= section\n",
    "        self.age= age\n",
    "    def information(self):\n",
    "        print(f\"The name of the student is {self.name} and his age is {self.age} and He belongs to section {self.section}.\")"
   ]
  },
  {
   "cell_type": "code",
   "execution_count": 9,
   "metadata": {},
   "outputs": [
    {
     "name": "stdout",
     "output_type": "stream",
     "text": [
      "The name of the student is Muhammad Aliyan and his age is 20 and He belongs to section A.\n"
     ]
    }
   ],
   "source": [
    "s1 = Students(\"Muhammad Aliyan\",\"A\", 20)\n",
    "s1.information()"
   ]
  },
  {
   "cell_type": "code",
   "execution_count": null,
   "metadata": {},
   "outputs": [],
   "source": []
  }
 ],
 "metadata": {
  "kernelspec": {
   "display_name": "Python 3",
   "language": "python",
   "name": "python3"
  },
  "language_info": {
   "codemirror_mode": {
    "name": "ipython",
    "version": 3
   },
   "file_extension": ".py",
   "mimetype": "text/x-python",
   "name": "python",
   "nbconvert_exporter": "python",
   "pygments_lexer": "ipython3",
   "version": "3.11.2"
  }
 },
 "nbformat": 4,
 "nbformat_minor": 2
}
