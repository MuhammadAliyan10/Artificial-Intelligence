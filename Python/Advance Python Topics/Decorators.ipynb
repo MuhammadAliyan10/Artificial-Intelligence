{
 "cells": [
  {
   "cell_type": "code",
   "execution_count": 1,
   "metadata": {},
   "outputs": [],
   "source": [
    "def greeting(func):\n",
    "    def wrapper():\n",
    "        print(\"Hello, Nice to meet you.\")\n",
    "        func()\n",
    "        print(\"It feels so good to meet you, Goodbye.\")\n",
    "    return wrapper"
   ]
  },
  {
   "cell_type": "code",
   "execution_count": 4,
   "metadata": {},
   "outputs": [],
   "source": [
    "@greeting\n",
    "def Work():\n",
    "    print(\"Your work will start at 10.00Pm.\")"
   ]
  },
  {
   "cell_type": "code",
   "execution_count": 5,
   "metadata": {},
   "outputs": [
    {
     "name": "stdout",
     "output_type": "stream",
     "text": [
      "Hello, Nice to meet you.\n",
      "Your work will start at 10.00Pm.\n",
      "It feels so good to meet you, Goodbye.\n"
     ]
    }
   ],
   "source": [
    "Work()"
   ]
  },
  {
   "cell_type": "code",
   "execution_count": 1,
   "metadata": {},
   "outputs": [
    {
     "name": "stdout",
     "output_type": "stream",
     "text": [
      "2024-04-13 12:40:34.217461\n"
     ]
    }
   ],
   "source": [
    "import datetime\n",
    "print(datetime.datetime.now())"
   ]
  },
  {
   "cell_type": "code",
   "execution_count": 2,
   "metadata": {},
   "outputs": [],
   "source": [
    "def timeManagement(user):\n",
    "    def wrapper():\n",
    "        print(datetime.datetime.now())\n",
    "        user()\n",
    "        print(datetime.datetime.now())\n",
    "    return wrapper"
   ]
  },
  {
   "cell_type": "code",
   "execution_count": 4,
   "metadata": {},
   "outputs": [],
   "source": [
    "@timeManagement\n",
    "def User():\n",
    "    print(\"hello its so nice to meet you. Hope we will be meet again.\")"
   ]
  },
  {
   "cell_type": "code",
   "execution_count": 5,
   "metadata": {},
   "outputs": [
    {
     "name": "stdout",
     "output_type": "stream",
     "text": [
      "2024-04-13 12:42:38.040495\n",
      "hello its so nice to meet you. Hope we will be meet again.\n",
      "2024-04-13 12:42:38.040537\n"
     ]
    }
   ],
   "source": [
    "User()"
   ]
  }
 ],
 "metadata": {
  "kernelspec": {
   "display_name": "Python 3",
   "language": "python",
   "name": "python3"
  },
  "language_info": {
   "codemirror_mode": {
    "name": "ipython",
    "version": 3
   },
   "file_extension": ".py",
   "mimetype": "text/x-python",
   "name": "python",
   "nbconvert_exporter": "python",
   "pygments_lexer": "ipython3",
   "version": "3.12.2"
  }
 },
 "nbformat": 4,
 "nbformat_minor": 2
}
