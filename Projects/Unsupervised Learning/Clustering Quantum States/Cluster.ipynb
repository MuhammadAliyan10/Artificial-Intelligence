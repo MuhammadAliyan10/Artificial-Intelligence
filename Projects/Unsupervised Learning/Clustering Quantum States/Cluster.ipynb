{
 "cells": [
  {
   "cell_type": "code",
   "execution_count": 15,
   "metadata": {},
   "outputs": [],
   "source": [
    "import pandas as pd\n",
    "from sklearn.cluster import KMeans\n",
    "from sklearn.preprocessing import StandardScaler\n",
    "import matplotlib.pyplot as plt"
   ]
  },
  {
   "cell_type": "code",
   "execution_count": 7,
   "metadata": {},
   "outputs": [
    {
     "data": {
      "text/html": [
       "<div>\n",
       "<style scoped>\n",
       "    .dataframe tbody tr th:only-of-type {\n",
       "        vertical-align: middle;\n",
       "    }\n",
       "\n",
       "    .dataframe tbody tr th {\n",
       "        vertical-align: top;\n",
       "    }\n",
       "\n",
       "    .dataframe thead th {\n",
       "        text-align: right;\n",
       "    }\n",
       "</style>\n",
       "<table border=\"1\" class=\"dataframe\">\n",
       "  <thead>\n",
       "    <tr style=\"text-align: right;\">\n",
       "      <th></th>\n",
       "      <th>Re_rho_00</th>\n",
       "      <th>Re_rho_01</th>\n",
       "      <th>Re_rho_02</th>\n",
       "      <th>Re_rho_03</th>\n",
       "      <th>Re_rho_10</th>\n",
       "      <th>Re_rho_11</th>\n",
       "      <th>Re_rho_12</th>\n",
       "      <th>Re_rho_13</th>\n",
       "      <th>Re_rho_20</th>\n",
       "      <th>Re_rho_21</th>\n",
       "      <th>Re_rho_22</th>\n",
       "      <th>Re_rho_23</th>\n",
       "      <th>Re_rho_30</th>\n",
       "      <th>Re_rho_31</th>\n",
       "      <th>Re_rho_32</th>\n",
       "      <th>Re_rho_33</th>\n",
       "    </tr>\n",
       "  </thead>\n",
       "  <tbody>\n",
       "    <tr>\n",
       "      <th>0</th>\n",
       "      <td>0.048657</td>\n",
       "      <td>-0.002235</td>\n",
       "      <td>-0.007755</td>\n",
       "      <td>0.093072</td>\n",
       "      <td>-0.002235</td>\n",
       "      <td>0.011930</td>\n",
       "      <td>-0.074111</td>\n",
       "      <td>-0.062972</td>\n",
       "      <td>-0.007755</td>\n",
       "      <td>-0.074111</td>\n",
       "      <td>0.470097</td>\n",
       "      <td>0.354724</td>\n",
       "      <td>0.093072</td>\n",
       "      <td>-0.062972</td>\n",
       "      <td>0.354724</td>\n",
       "      <td>0.469316</td>\n",
       "    </tr>\n",
       "    <tr>\n",
       "      <th>1</th>\n",
       "      <td>0.035057</td>\n",
       "      <td>-0.090191</td>\n",
       "      <td>-0.025110</td>\n",
       "      <td>0.010380</td>\n",
       "      <td>-0.090191</td>\n",
       "      <td>0.497040</td>\n",
       "      <td>0.383155</td>\n",
       "      <td>0.103445</td>\n",
       "      <td>-0.025110</td>\n",
       "      <td>0.383155</td>\n",
       "      <td>0.400910</td>\n",
       "      <td>0.149014</td>\n",
       "      <td>0.010380</td>\n",
       "      <td>0.103445</td>\n",
       "      <td>0.149014</td>\n",
       "      <td>0.066993</td>\n",
       "    </tr>\n",
       "    <tr>\n",
       "      <th>2</th>\n",
       "      <td>0.388144</td>\n",
       "      <td>-0.079389</td>\n",
       "      <td>0.124571</td>\n",
       "      <td>-0.080437</td>\n",
       "      <td>-0.079389</td>\n",
       "      <td>0.018310</td>\n",
       "      <td>-0.036759</td>\n",
       "      <td>-0.014936</td>\n",
       "      <td>0.124571</td>\n",
       "      <td>-0.036759</td>\n",
       "      <td>0.101387</td>\n",
       "      <td>0.145060</td>\n",
       "      <td>-0.080437</td>\n",
       "      <td>-0.014936</td>\n",
       "      <td>0.145060</td>\n",
       "      <td>0.492159</td>\n",
       "    </tr>\n",
       "    <tr>\n",
       "      <th>3</th>\n",
       "      <td>0.109275</td>\n",
       "      <td>0.019094</td>\n",
       "      <td>0.164297</td>\n",
       "      <td>-0.219022</td>\n",
       "      <td>0.019094</td>\n",
       "      <td>0.016195</td>\n",
       "      <td>0.007956</td>\n",
       "      <td>-0.082919</td>\n",
       "      <td>0.164297</td>\n",
       "      <td>0.007956</td>\n",
       "      <td>0.280512</td>\n",
       "      <td>-0.257250</td>\n",
       "      <td>-0.219022</td>\n",
       "      <td>-0.082919</td>\n",
       "      <td>-0.257250</td>\n",
       "      <td>0.594018</td>\n",
       "    </tr>\n",
       "    <tr>\n",
       "      <th>4</th>\n",
       "      <td>0.004882</td>\n",
       "      <td>-0.044025</td>\n",
       "      <td>-0.032154</td>\n",
       "      <td>0.006419</td>\n",
       "      <td>-0.044025</td>\n",
       "      <td>0.552681</td>\n",
       "      <td>0.193117</td>\n",
       "      <td>0.100919</td>\n",
       "      <td>-0.032154</td>\n",
       "      <td>0.193117</td>\n",
       "      <td>0.272008</td>\n",
       "      <td>-0.141057</td>\n",
       "      <td>0.006419</td>\n",
       "      <td>0.100919</td>\n",
       "      <td>-0.141057</td>\n",
       "      <td>0.170429</td>\n",
       "    </tr>\n",
       "  </tbody>\n",
       "</table>\n",
       "</div>"
      ],
      "text/plain": [
       "   Re_rho_00  Re_rho_01  Re_rho_02  Re_rho_03  Re_rho_10  Re_rho_11  \\\n",
       "0   0.048657  -0.002235  -0.007755   0.093072  -0.002235   0.011930   \n",
       "1   0.035057  -0.090191  -0.025110   0.010380  -0.090191   0.497040   \n",
       "2   0.388144  -0.079389   0.124571  -0.080437  -0.079389   0.018310   \n",
       "3   0.109275   0.019094   0.164297  -0.219022   0.019094   0.016195   \n",
       "4   0.004882  -0.044025  -0.032154   0.006419  -0.044025   0.552681   \n",
       "\n",
       "   Re_rho_12  Re_rho_13  Re_rho_20  Re_rho_21  Re_rho_22  Re_rho_23  \\\n",
       "0  -0.074111  -0.062972  -0.007755  -0.074111   0.470097   0.354724   \n",
       "1   0.383155   0.103445  -0.025110   0.383155   0.400910   0.149014   \n",
       "2  -0.036759  -0.014936   0.124571  -0.036759   0.101387   0.145060   \n",
       "3   0.007956  -0.082919   0.164297   0.007956   0.280512  -0.257250   \n",
       "4   0.193117   0.100919  -0.032154   0.193117   0.272008  -0.141057   \n",
       "\n",
       "   Re_rho_30  Re_rho_31  Re_rho_32  Re_rho_33  \n",
       "0   0.093072  -0.062972   0.354724   0.469316  \n",
       "1   0.010380   0.103445   0.149014   0.066993  \n",
       "2  -0.080437  -0.014936   0.145060   0.492159  \n",
       "3  -0.219022  -0.082919  -0.257250   0.594018  \n",
       "4   0.006419   0.100919  -0.141057   0.170429  "
      ]
     },
     "execution_count": 7,
     "metadata": {},
     "output_type": "execute_result"
    }
   ],
   "source": [
    "df = pd.read_csv('./Data/haar_random_2qubit_states.csv')\n",
    "df.head()"
   ]
  },
  {
   "cell_type": "code",
   "execution_count": 8,
   "metadata": {},
   "outputs": [],
   "source": [
    "X = df"
   ]
  },
  {
   "cell_type": "code",
   "execution_count": 9,
   "metadata": {},
   "outputs": [],
   "source": [
    "X_values = X.values"
   ]
  },
  {
   "cell_type": "code",
   "execution_count": null,
   "metadata": {},
   "outputs": [],
   "source": [
    "scaler = StandardScaler()\n",
    "X_scaled = scaler.fit_transform(X_values)"
   ]
  },
  {
   "cell_type": "code",
   "execution_count": null,
   "metadata": {},
   "outputs": [],
   "source": [
    "inertia = []\n",
    "k_range = range(1, 11)\n",
    "for k in k_range:\n",
    "    kmeans_temp = KMeans(n_clusters=k, random_state=42)\n",
    "    kmeans_temp.fit(X_scaled)\n",
    "    inertia.append(kmeans_temp.inertia_)"
   ]
  },
  {
   "cell_type": "code",
   "execution_count": 16,
   "metadata": {},
   "outputs": [
    {
     "data": {
      "image/png": "[encoded data removed]",
      "text/plain": [
       "<Figure size 800x600 with 1 Axes>"
      ]
     },
     "metadata": {},
     "output_type": "display_data"
    }
   ],
   "source": [
    "plt.figure(figsize=(8, 6))\n",
    "plt.plot(k_range, inertia, 'bo-', markersize=8)\n",
    "plt.xlabel('Number of Clusters (K)')\n",
    "plt.ylabel('Inertia')\n",
    "plt.title('Elbow Method for Optimal K')\n",
    "plt.show()"
   ]
  },
  {
   "cell_type": "code",
   "execution_count": 11,
   "metadata": {},
   "outputs": [],
   "source": [
    "kmeans = KMeans(n_clusters=3, random_state=42)\n",
    "df['Cluster'] = kmeans.fit_predict(X_scaled)"
   ]
  },
  {
   "cell_type": "code",
   "execution_count": 12,
   "metadata": {},
   "outputs": [
    {
     "name": "stdout",
     "output_type": "stream",
     "text": [
      "Dataset with cluster labels:\n",
      "   Re_rho_00  Re_rho_01  Re_rho_02  Re_rho_03  Re_rho_10  Re_rho_11  \\\n",
      "0   0.048657  -0.002235  -0.007755   0.093072  -0.002235   0.011930   \n",
      "1   0.035057  -0.090191  -0.025110   0.010380  -0.090191   0.497040   \n",
      "2   0.388144  -0.079389   0.124571  -0.080437  -0.079389   0.018310   \n",
      "3   0.109275   0.019094   0.164297  -0.219022   0.019094   0.016195   \n",
      "4   0.004882  -0.044025  -0.032154   0.006419  -0.044025   0.552681   \n",
      "\n",
      "   Re_rho_12  Re_rho_13  Re_rho_20  Re_rho_21  Re_rho_22  Re_rho_23  \\\n",
      "0  -0.074111  -0.062972  -0.007755  -0.074111   0.470097   0.354724   \n",
      "1   0.383155   0.103445  -0.025110   0.383155   0.400910   0.149014   \n",
      "2  -0.036759  -0.014936   0.124571  -0.036759   0.101387   0.145060   \n",
      "3   0.007956  -0.082919   0.164297   0.007956   0.280512  -0.257250   \n",
      "4   0.193117   0.100919  -0.032154   0.193117   0.272008  -0.141057   \n",
      "\n",
      "   Re_rho_30  Re_rho_31  Re_rho_32  Re_rho_33  Cluster  \n",
      "0   0.093072  -0.062972   0.354724   0.469316        0  \n",
      "1   0.010380   0.103445   0.149014   0.066993        1  \n",
      "2  -0.080437  -0.014936   0.145060   0.492159        0  \n",
      "3  -0.219022  -0.082919  -0.257250   0.594018        2  \n",
      "4   0.006419   0.100919  -0.141057   0.170429        2  \n",
      "Cluster counts:\n",
      "Cluster\n",
      "1    4428\n",
      "2    2868\n",
      "0    2704\n",
      "Name: count, dtype: int64\n"
     ]
    }
   ],
   "source": [
    "print(\"Dataset with cluster labels:\")\n",
    "print(df.head())\n",
    "print(f\"Cluster counts:\\n{df['Cluster'].value_counts()}\")"
   ]
  },
  {
   "cell_type": "code",
   "execution_count": 13,
   "metadata": {},
   "outputs": [],
   "source": [
    "df.to_csv(\"./Data/Clustered_data.csv\", index=False)"
   ]
  },
  {
   "cell_type": "code",
   "execution_count": 17,
   "metadata": {},
   "outputs": [
    {
     "data": {
      "text/plain": [
       "['scaler.pkl']"
      ]
     },
     "execution_count": 17,
     "metadata": {},
     "output_type": "execute_result"
    }
   ],
   "source": [
    "import joblib\n",
    "joblib.dump(kmeans, 'Model.pkl')\n",
    "joblib.dump(scaler, 'scaler.pkl')"
   ]
  },
  {
   "cell_type": "code",
   "execution_count": null,
   "metadata": {},
   "outputs": [],
   "source": []
  }
 ],
 "metadata": {
  "kernelspec": {
   "display_name": "Python 3",
   "language": "python",
   "name": "python3"
  },
  "language_info": {
   "codemirror_mode": {
    "name": "ipython",
    "version": 3
   },
   "file_extension": ".py",
   "mimetype": "text/x-python",
   "name": "python",
   "nbconvert_exporter": "python",
   "pygments_lexer": "ipython3",
   "version": "3.12.2"
  }
 },
 "nbformat": 4,
 "nbformat_minor": 2
}
